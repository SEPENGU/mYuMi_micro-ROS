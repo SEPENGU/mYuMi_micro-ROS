{
 "cells": [
  {
   "cell_type": "code",
   "execution_count": 1,
   "metadata": {},
   "outputs": [],
   "source": [
    "import os\n",
    "import math\n",
    "import sys\n",
    "# Assuming a workspace with:\n",
    "#   src/tracetools_analysis/\n",
    "#   src/ros-tracing/ros2_tracing/tracetools_read/\n",
    "sys.path.insert(0, '../')\n",
    "sys.path.insert(0, '../../../ros-tracing/ros2_tracing/tracetools_read/')\n",
    "import datetime as dt\n",
    "\n",
    "import matplotlib.pyplot as plt\n",
    "import numpy as np\n",
    "import pandas as pd\n",
    "\n",
    "from tracetools_analysis.loading import load_file\n",
    "from tracetools_analysis.processor.ros2 import Ros2Handler\n",
    "from tracetools_analysis.utils.ros2 import Ros2DataModelUtil"
   ]
  },
  {
   "cell_type": "code",
   "execution_count": 2,
   "metadata": {},
   "outputs": [],
   "source": [
    "#path = '/home/user/pnn16004/ros2_ws/tracing/ros2/'\n",
    "path = '/home/user/pnn16004/ros2_ws/tracing/ros2_3/'\n",
    "#f.name, f.path\n",
    "folders = [ f for f in os.scandir(path) if f.is_dir() ]"
   ]
  },
  {
   "cell_type": "code",
   "execution_count": null,
   "metadata": {},
   "outputs": [
    {
     "name": "stdout",
     "output_type": "stream",
     "text": [
      "found converted file: /home/user/pnn16004/ros2_ws/tracing/ros2_3/32s-due-100-3/test_pong_trace/ust/converted\n",
      " [100%] [Ros2Handler]\n",
      "Callback error!\n",
      "found converted file: /home/user/pnn16004/ros2_ws/tracing/ros2_3/32s-due-100-3/test_ping_trace/ust/converted\n"
     ]
    }
   ],
   "source": [
    "for folder in folders:\n",
    "    if folder.name == \"ros2_data\" or folder.name == \"read\":\n",
    "        continue\n",
    "    subfolders = [ f for f in os.scandir(folder.path) if f.is_dir() ]\n",
    "    for subfolder in subfolders:\n",
    "        # Process\n",
    "        events = load_file(subfolder.path + '/ust')\n",
    "        handler = Ros2Handler.process(events)\n",
    "        #handler.data.print_data()\n",
    "\n",
    "        data_util = Ros2DataModelUtil(handler.data)\n",
    "        try:\n",
    "            callback_symbols = data_util.get_callback_symbols()\n",
    "        except:\n",
    "            print(\"Callback error!\")\n",
    "            continue\n",
    "            pass\n",
    "\n",
    "        # Plot durations separately\n",
    "        for obj, symbol in callback_symbols.items():\n",
    "            owner_info = data_util.get_callback_owner_info(obj)\n",
    "            if owner_info is None:\n",
    "                owner_info = '[unknown]'\n",
    "\n",
    "            # Filter out internal subscriptions\n",
    "            if '/parameter_events' in owner_info:\n",
    "                continue\n",
    "\n",
    "            if \"/mros/ping\" in owner_info:\n",
    "                color = '#29788E'\n",
    "                name = 'Ping'\n",
    "            elif \"/mros/pong\" in owner_info:\n",
    "                color = '#DD4968'\n",
    "                name = 'Pong'\n",
    "            elif \"/mros/peng\" in owner_info:\n",
    "                color = '#410967'\n",
    "                name = 'Peng'\n",
    "            else:\n",
    "                continue\n",
    "                \n",
    "            # Duration\n",
    "            duration_df = data_util.get_callback_durations(obj)\n",
    "\n",
    "            source = pd.DataFrame(duration_df)\n",
    "\n",
    "            timestamp = source['timestamp'].apply(lambda x: x.value)\n",
    "            duration = source['duration'].apply(lambda x: x.value)\n",
    "\n",
    "            time = np.array(timestamp.values)\n",
    "            data = np.array(duration.values)\n",
    "\n",
    "            time = (time - time[0]) / pow(10, 9)\n",
    "            data = data / pow(10, 6)\n",
    "            \n",
    "            combined = np.stack([time, data], axis=1)\n",
    "            \n",
    "            saveFolder = path + \"ros2_data/\" + folder.name + \"/\"\n",
    "            try:\n",
    "                os.makedirs(saveFolder)\n",
    "                print(\"Created folder: \" + saveFolder)\n",
    "            except OSError as error:\n",
    "                pass\n",
    "                \n",
    "            np.savetxt(saveFolder + name + \".csv\", combined, delimiter=\",\")"
   ]
  },
  {
   "cell_type": "code",
   "execution_count": null,
   "metadata": {},
   "outputs": [],
   "source": []
  }
 ],
 "metadata": {
  "kernelspec": {
   "display_name": "Python 3",
   "language": "python",
   "name": "python3"
  },
  "language_info": {
   "codemirror_mode": {
    "name": "ipython",
    "version": 3
   },
   "file_extension": ".py",
   "mimetype": "text/x-python",
   "name": "python",
   "nbconvert_exporter": "python",
   "pygments_lexer": "ipython3",
   "version": "3.8.10"
  }
 },
 "nbformat": 4,
 "nbformat_minor": 4
}
