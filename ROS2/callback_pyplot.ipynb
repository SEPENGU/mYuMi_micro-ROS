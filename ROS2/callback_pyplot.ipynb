{
 "cells": [
  {
   "cell_type": "code",
   "execution_count": 1,
   "metadata": {},
   "outputs": [],
   "source": [
    "# Callback duration\n",
    "#\n",
    "# Get trace data using the provided launch file:\n",
    "#    $ ros2 launch tracetools_analysis pingpong.launch.py\n",
    "#    (wait a few seconds, then kill with Ctrl+C)\n",
    "#\n",
    "# (optional) convert trace data:\n",
    "#    $ ros2 run tracetools_analysis convert ~/.ros/tracing/pingpong/ust\n",
    "#\n",
    "# OR\n",
    "#\n",
    "# Use the provided sample converted trace file, changing the path below to:\n",
    "#    'sample_data/converted_pingpong'"
   ]
  },
  {
   "cell_type": "code",
   "execution_count": 2,
   "metadata": {},
   "outputs": [],
   "source": [
    "#path = '~/pnn16004/ros2_ws/tracing/ping_trace/ust'\n",
    "#path = '~/pnn16004/ros2_ws/tracing/ros2_100/due-f7-100-2/test_ping_trace/ust'\n",
    "#path = '~/pnn16004/ros2_ws/tracing/ros2_80/due-f7-80-2/test_ping_trace/ust'\n",
    "#path = '~/pnn16004/ros2_ws/tracing/ros2_60/due-f7-60-2/test_ping_trace/ust'\n",
    "path = '~/pnn16004/ros2_ws/tracing/ros2_3/f7-32s-80-3/test_ping_trace/ust'"
   ]
  },
  {
   "cell_type": "code",
   "execution_count": 3,
   "metadata": {},
   "outputs": [],
   "source": [
    "import math\n",
    "import sys\n",
    "# Assuming a workspace with:\n",
    "#   src/tracetools_analysis/\n",
    "#   src/ros-tracing/ros2_tracing/tracetools_read/\n",
    "sys.path.insert(0, '../')\n",
    "sys.path.insert(0, '../../../ros-tracing/ros2_tracing/tracetools_read/')\n",
    "import datetime as dt\n",
    "\n",
    "import matplotlib.pyplot as plt\n",
    "import numpy as np\n",
    "import pandas as pd\n",
    "\n",
    "from tracetools_analysis.loading import load_file\n",
    "from tracetools_analysis.processor.ros2 import Ros2Handler\n",
    "from tracetools_analysis.utils.ros2 import Ros2DataModelUtil"
   ]
  },
  {
   "cell_type": "code",
   "execution_count": 4,
   "metadata": {},
   "outputs": [
    {
     "name": "stdout",
     "output_type": "stream",
     "text": [
      "found converted file: /home/user/pnn16004/ros2_ws/tracing/ros2_3/f7-32s-80-3/test_ping_trace/ust/converted\n",
      " [100%] [Ros2Handler]\n"
     ]
    }
   ],
   "source": [
    "# Process\n",
    "events = load_file(path)\n",
    "handler = Ros2Handler.process(events)\n",
    "#handler.data.print_data()"
   ]
  },
  {
   "cell_type": "code",
   "execution_count": 5,
   "metadata": {
    "tags": []
   },
   "outputs": [],
   "source": [
    "data_util = Ros2DataModelUtil(handler.data)\n",
    "\n",
    "callback_symbols = data_util.get_callback_symbols()\n",
    "\n",
    "psize = 450\n",
    "colours = ['#FF5733', '#ECFF33', '#DD4968', '#29788E', '#410967', '#DD4968']\n",
    "# Ping: '#29788E', Pong: '#DD4968', Peng: '#410967',"
   ]
  },
  {
   "cell_type": "code",
   "execution_count": 6,
   "metadata": {},
   "outputs": [
    {
     "name": "stdout",
     "output_type": "stream",
     "text": [
      "[ True  True  True ...  True  True  True]\n"
     ]
    },
    {
     "data": {
      "image/png": "[encoded data removed]",
      "text/plain": [
       "<Figure size 432x288 with 1 Axes>"
      ]
     },
     "metadata": {
      "needs_background": "light"
     },
     "output_type": "display_data"
    }
   ],
   "source": [
    "# Plot durations separately\n",
    "colour_i = 0\n",
    "avg = [0, 0]\n",
    "for obj, symbol in callback_symbols.items():\n",
    "    owner_info = data_util.get_callback_owner_info(obj)\n",
    "    if owner_info is None:\n",
    "        owner_info = '[unknown]'\n",
    "        \n",
    "    # Filter out internal subscriptions\n",
    "    if '/parameter_events' in owner_info:\n",
    "        continue\n",
    "    \n",
    "    if not \"/mros/ping\" in owner_info and not \"/mros/pong\" in owner_info and not \"/mros/peng\" in owner_info:\n",
    "        continue\n",
    "    \n",
    "    if \"/mros/ping\" in owner_info:\n",
    "        color = '#29788E'\n",
    "        name = 'Ping'\n",
    "    elif \"/mros/pong\" in owner_info:\n",
    "        color = '#DD4968'\n",
    "        name = 'Pong'\n",
    "    elif \"/mros/peng\" in owner_info:\n",
    "        color = '#410967'\n",
    "        name = 'Peng'\n",
    "\n",
    "    # Duration\n",
    "    duration_df = data_util.get_callback_durations(obj)\n",
    "    duration_ms = duration_df['duration'] * 1000 / np.timedelta64(1, 's') # List of durations in ms\n",
    "    #starttime = duration_df.loc[:, 'timestamp'].iloc[0].strftime('%Y-%m-%d %H:%M')\n",
    "    \n",
    "    #plt.bar(*zip(*duration_df.items()))\n",
    "    #plt.show()\n",
    "    #print(*zip(*duration_df.items()))\n",
    "    \n",
    "    source = pd.DataFrame(duration_df)\n",
    "    \n",
    "    timestamp = source['timestamp'].apply(lambda x: x.value)\n",
    "    duration = source['duration'].apply(lambda x: x.value)\n",
    "    \n",
    "    time = np.array(timestamp.values)\n",
    "    data = np.array(duration.values)\n",
    "    \n",
    "    time = (time - time[0]) / pow(10, 9)\n",
    "    data = data / pow(10, 6)\n",
    "    \n",
    "    length = len(time)\n",
    "    timeAvg = np.zeros(length)\n",
    "    dataAvg = np.zeros(length)\n",
    "    \n",
    "    avg = 70\n",
    "    iMax = math.floor(length / avg)\n",
    "    for i in range(0, iMax):\n",
    "        step = i * avg\n",
    "        timeAvg[i] = time[step]\n",
    "        dataAvg[i] = sum(data[step:step+avg]) / avg\n",
    "        \n",
    "        #plt.plot(timeAvg, dataAvg)\n",
    "        #print(timeAvg[i])\n",
    "        #print(dataAvg[1])\n",
    "    \n",
    "    plt.plot(timeAvg, dataAvg)\n",
    "    print(time==sorted(time))\n",
    "    break\n",
    "\n",
    "plt.show()"
   ]
  },
  {
   "cell_type": "code",
   "execution_count": null,
   "metadata": {},
   "outputs": [],
   "source": []
  },
  {
   "cell_type": "code",
   "execution_count": null,
   "metadata": {},
   "outputs": [],
   "source": []
  }
 ],
 "metadata": {
  "kernelspec": {
   "display_name": "Python 3",
   "language": "python",
   "name": "python3"
  },
  "language_info": {
   "codemirror_mode": {
    "name": "ipython",
    "version": 3
   },
   "file_extension": ".py",
   "mimetype": "text/x-python",
   "name": "python",
   "nbconvert_exporter": "python",
   "pygments_lexer": "ipython3",
   "version": "3.8.10"
  }
 },
 "nbformat": 4,
 "nbformat_minor": 4
}
